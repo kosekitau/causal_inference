{
 "cells": [
  {
   "cell_type": "code",
   "execution_count": 1,
   "metadata": {},
   "outputs": [],
   "source": [
    "import numpy as np\n",
    "import pandas as pd\n",
    "import statsmodels.api as sm\n",
    "import warnings\n",
    "warnings.filterwarnings(\"ignore\")"
   ]
  },
  {
   "cell_type": "code",
   "execution_count": 2,
   "metadata": {},
   "outputs": [
    {
     "data": {
      "text/html": [
       "<div>\n",
       "<style scoped>\n",
       "    .dataframe tbody tr th:only-of-type {\n",
       "        vertical-align: middle;\n",
       "    }\n",
       "\n",
       "    .dataframe tbody tr th {\n",
       "        vertical-align: top;\n",
       "    }\n",
       "\n",
       "    .dataframe thead th {\n",
       "        text-align: right;\n",
       "    }\n",
       "</style>\n",
       "<table border=\"1\" class=\"dataframe\">\n",
       "  <thead>\n",
       "    <tr style=\"text-align: right;\">\n",
       "      <th></th>\n",
       "      <th>Y</th>\n",
       "      <th>X</th>\n",
       "      <th>Z</th>\n",
       "    </tr>\n",
       "  </thead>\n",
       "  <tbody>\n",
       "    <tr>\n",
       "      <th>0</th>\n",
       "      <td>1.891800</td>\n",
       "      <td>0.417022</td>\n",
       "      <td>0.326645</td>\n",
       "    </tr>\n",
       "    <tr>\n",
       "      <th>1</th>\n",
       "      <td>3.640204</td>\n",
       "      <td>0.720324</td>\n",
       "      <td>0.527058</td>\n",
       "    </tr>\n",
       "    <tr>\n",
       "      <th>2</th>\n",
       "      <td>2.890550</td>\n",
       "      <td>0.000114</td>\n",
       "      <td>0.885942</td>\n",
       "    </tr>\n",
       "    <tr>\n",
       "      <th>3</th>\n",
       "      <td>2.359026</td>\n",
       "      <td>0.302333</td>\n",
       "      <td>0.357270</td>\n",
       "    </tr>\n",
       "    <tr>\n",
       "      <th>4</th>\n",
       "      <td>2.709000</td>\n",
       "      <td>0.146756</td>\n",
       "      <td>0.908535</td>\n",
       "    </tr>\n",
       "  </tbody>\n",
       "</table>\n",
       "</div>"
      ],
      "text/plain": [
       "          Y         X         Z\n",
       "0  1.891800  0.417022  0.326645\n",
       "1  3.640204  0.720324  0.527058\n",
       "2  2.890550  0.000114  0.885942\n",
       "3  2.359026  0.302333  0.357270\n",
       "4  2.709000  0.146756  0.908535"
      ]
     },
     "execution_count": 2,
     "metadata": {},
     "output_type": "execute_result"
    }
   ],
   "source": [
    "np.random.seed(1)\n",
    "\n",
    "num_data = 100\n",
    "\n",
    "X = np.random.rand(num_data)\n",
    "Z = np.random.rand(num_data)\n",
    "e_y = np.random.randn(num_data) # 誤差項\n",
    "\n",
    "Y = 2*X + 3*Z + e_y\n",
    "\n",
    "df = pd.DataFrame({\"Y\":Y, \"X\":X, \"Z\":Z})\n",
    "df.head()"
   ]
  },
  {
   "cell_type": "code",
   "execution_count": 3,
   "metadata": {},
   "outputs": [
    {
     "data": {
      "text/html": [
       "<table class=\"simpletable\">\n",
       "<tr>\n",
       "  <td></td>     <th>coef</th>     <th>std err</th>      <th>t</th>      <th>P>|t|</th>  <th>[0.025</th>    <th>0.975]</th>  \n",
       "</tr>\n",
       "<tr>\n",
       "  <th>X</th> <td>    4.2761</td> <td>    0.286</td> <td>   14.928</td> <td> 0.000</td> <td>    3.708</td> <td>    4.844</td>\n",
       "</tr>\n",
       "</table>"
      ],
      "text/plain": [
       "<class 'statsmodels.iolib.table.SimpleTable'>"
      ]
     },
     "execution_count": 3,
     "metadata": {},
     "output_type": "execute_result"
    }
   ],
   "source": [
    "y = df[[\"Y\"]]\n",
    "X = df[[\"X\"]]\n",
    "\n",
    "model = sm.OLS(y, X).fit()\n",
    "model.summary().tables[1]"
   ]
  },
  {
   "cell_type": "code",
   "execution_count": 4,
   "metadata": {},
   "outputs": [
    {
     "data": {
      "text/html": [
       "<table class=\"simpletable\">\n",
       "<tr>\n",
       "  <td></td>     <th>coef</th>     <th>std err</th>      <th>t</th>      <th>P>|t|</th>  <th>[0.025</th>    <th>0.975]</th>  \n",
       "</tr>\n",
       "<tr>\n",
       "  <th>X</th> <td>    2.0618</td> <td>    0.260</td> <td>    7.943</td> <td> 0.000</td> <td>    1.547</td> <td>    2.577</td>\n",
       "</tr>\n",
       "<tr>\n",
       "  <th>Z</th> <td>    3.0637</td> <td>    0.255</td> <td>   12.026</td> <td> 0.000</td> <td>    2.558</td> <td>    3.569</td>\n",
       "</tr>\n",
       "</table>"
      ],
      "text/plain": [
       "<class 'statsmodels.iolib.table.SimpleTable'>"
      ]
     },
     "execution_count": 4,
     "metadata": {},
     "output_type": "execute_result"
    }
   ],
   "source": [
    "y = df[[\"Y\"]]\n",
    "X = df[[\"X\", \"Z\"]]\n",
    "\n",
    "model = sm.OLS(y, X).fit()\n",
    "model.summary().tables[1]"
   ]
  },
  {
   "cell_type": "code",
   "execution_count": 6,
   "metadata": {},
   "outputs": [
    {
     "data": {
      "text/html": [
       "<table class=\"simpletable\">\n",
       "<tr>\n",
       "  <td></td>     <th>coef</th>     <th>std err</th>      <th>t</th>      <th>P>|t|</th>  <th>[0.025</th>    <th>0.975]</th>  \n",
       "</tr>\n",
       "<tr>\n",
       "  <th>X</th> <td>    4.3022</td> <td>    0.026</td> <td>  163.552</td> <td> 0.000</td> <td>    4.251</td> <td>    4.354</td>\n",
       "</tr>\n",
       "</table>"
      ],
      "text/plain": [
       "<class 'statsmodels.iolib.table.SimpleTable'>"
      ]
     },
     "execution_count": 6,
     "metadata": {},
     "output_type": "execute_result"
    }
   ],
   "source": [
    "np.random.seed(1)\n",
    "\n",
    "num_data = 10000\n",
    "\n",
    "X = np.random.rand(num_data)\n",
    "Z = np.random.rand(num_data)\n",
    "e_y = np.random.randn(num_data) # 誤差項\n",
    "\n",
    "Y = 2*X + 3*Z + e_y\n",
    "\n",
    "df = pd.DataFrame({\"Y\":Y, \"X\":X, \"Z\":Z})\n",
    "y = df[[\"Y\"]]\n",
    "X = df[[\"X\"]]\n",
    "\n",
    "model = sm.OLS(y, X).fit()\n",
    "model.summary().tables[1]"
   ]
  },
  {
   "cell_type": "code",
   "execution_count": null,
   "metadata": {},
   "outputs": [],
   "source": []
  }
 ],
 "metadata": {
  "kernelspec": {
   "display_name": "Python 3",
   "language": "python",
   "name": "python3"
  },
  "language_info": {
   "codemirror_mode": {
    "name": "ipython",
    "version": 3
   },
   "file_extension": ".py",
   "mimetype": "text/x-python",
   "name": "python",
   "nbconvert_exporter": "python",
   "pygments_lexer": "ipython3",
   "version": "3.7.3"
  }
 },
 "nbformat": 4,
 "nbformat_minor": 4
}
